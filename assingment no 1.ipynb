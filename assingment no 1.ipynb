{
 "cells": [
  {
   "cell_type": "code",
   "execution_count": 1,
   "metadata": {},
   "outputs": [
    {
     "name": "stdout",
     "output_type": "stream",
     "text": [
      "Twinkle,twinkle,Little star \n",
      "       How I wonder what you are !\n",
      "               Up above the world so High\n",
      "               like a diamond in the sky\n",
      "Twinkle,twinkle,Little star\n",
      "      How I wonder what you are\n",
      " \n"
     ]
    }
   ],
   "source": [
    "s1='Twinkle,twinkle,Little star \\n'\n",
    "\n",
    "s2='       How I wonder what you are !\\n'\n",
    "\n",
    "s3='               Up above the world so High\\n'\n",
    "\n",
    "s4='               like a diamond in the sky\\n'\n",
    "\n",
    "s5='Twinkle,twinkle,Little star\\n'\n",
    "\n",
    "s6='      How I wonder what you are\\n '\n",
    "s=s1+s2+s3+s4+s5+s6\n",
    "print(s)"
   ]
  },
  {
   "cell_type": "code",
   "execution_count": 2,
   "metadata": {},
   "outputs": [
    {
     "name": "stdout",
     "output_type": "stream",
     "text": [
      "python version\n",
      "3.7.4 (default, Aug  9 2019, 18:22:51) [MSC v.1915 32 bit (Intel)]\n"
     ]
    }
   ],
   "source": [
    "import sys\n",
    "\n",
    "print(\"python version\")\n",
    "\n",
    "print(sys.version)"
   ]
  },
  {
   "cell_type": "code",
   "execution_count": 3,
   "metadata": {},
   "outputs": [
    {
     "name": "stdout",
     "output_type": "stream",
     "text": [
      "current date and time:\n",
      "19-47-04 : Nov:11:29\n"
     ]
    }
   ],
   "source": [
    "\n",
    "import datetime\n",
    "now=datetime.datetime.now()\n",
    "print(\"current date and time:\")\n",
    "print(now.strftime(\"%y-%M-%d : %h:%m:%S\"))"
   ]
  },
  {
   "cell_type": "code",
   "execution_count": 28,
   "metadata": {},
   "outputs": [
    {
     "name": "stdout",
     "output_type": "stream",
     "text": [
      "enter radius55\n",
      "circle=9503.317777109125\n"
     ]
    }
   ],
   "source": [
    "\n",
    "import math \n",
    "radius = int(input(\"enter radius\"))\n",
    "print(\"circle=\"+str(math.pi*(radius**2)))\n"
   ]
  },
  {
   "cell_type": "code",
   "execution_count": 31,
   "metadata": {},
   "outputs": [
    {
     "name": "stdout",
     "output_type": "stream",
     "text": [
      "Tahir memon \n"
     ]
    }
   ],
   "source": [
    "\n",
    "firstname= \"Tahir\"\n",
    "lastname= \"memon \"\n",
    "print(firstname + \" \" + lastname)\n"
   ]
  },
  {
   "cell_type": "code",
   "execution_count": 32,
   "metadata": {},
   "outputs": [
    {
     "name": "stdout",
     "output_type": "stream",
     "text": [
      "30\n"
     ]
    }
   ],
   "source": [
    "a= 10\n",
    "b = 20\n",
    "c= a+b\n",
    "print(c)"
   ]
  },
  {
   "cell_type": "code",
   "execution_count": null,
   "metadata": {},
   "outputs": [],
   "source": []
  }
 ],
 "metadata": {
  "kernelspec": {
   "display_name": "Python 3",
   "language": "python",
   "name": "python3"
  },
  "language_info": {
   "codemirror_mode": {
    "name": "ipython",
    "version": 3
   },
   "file_extension": ".py",
   "mimetype": "text/x-python",
   "name": "python",
   "nbconvert_exporter": "python",
   "pygments_lexer": "ipython3",
   "version": "3.7.4"
  }
 },
 "nbformat": 4,
 "nbformat_minor": 2
}
